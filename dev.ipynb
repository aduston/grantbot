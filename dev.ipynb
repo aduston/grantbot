{
 "cells": [
  {
   "cell_type": "code",
   "execution_count": 14,
   "metadata": {},
   "outputs": [
    {
     "ename": "ImportError",
     "evalue": "cannot import name 'RequestsMarkdownBrowser' from 'autogen.browser_utils' (/Users/aduston/.pyenv/versions/3.11.4/envs/grantbot/lib/python3.11/site-packages/autogen/browser_utils.py)",
     "output_type": "error",
     "traceback": [
      "\u001b[0;31m---------------------------------------------------------------------------\u001b[0m",
      "\u001b[0;31mImportError\u001b[0m                               Traceback (most recent call last)",
      "Cell \u001b[0;32mIn[14], line 4\u001b[0m\n\u001b[1;32m      2\u001b[0m \u001b[38;5;28;01mfrom\u001b[39;00m \u001b[38;5;21;01mautogen\u001b[39;00m \u001b[38;5;28;01mimport\u001b[39;00m ConversableAgent\n\u001b[1;32m      3\u001b[0m \u001b[38;5;28;01mfrom\u001b[39;00m \u001b[38;5;21;01mautogen\u001b[39;00m\u001b[38;5;21;01m.\u001b[39;00m\u001b[38;5;21;01magentchat\u001b[39;00m\u001b[38;5;21;01m.\u001b[39;00m\u001b[38;5;21;01mcontrib\u001b[39;00m\u001b[38;5;21;01m.\u001b[39;00m\u001b[38;5;21;01mweb_surfer\u001b[39;00m \u001b[38;5;28;01mimport\u001b[39;00m WebSurferAgent\n\u001b[0;32m----> 4\u001b[0m \u001b[38;5;28;01mfrom\u001b[39;00m \u001b[38;5;21;01mautogen\u001b[39;00m\u001b[38;5;21;01m.\u001b[39;00m\u001b[38;5;21;01mbrowser_utils\u001b[39;00m \u001b[38;5;28;01mimport\u001b[39;00m RequestsMarkdownBrowser\n",
      "\u001b[0;31mImportError\u001b[0m: cannot import name 'RequestsMarkdownBrowser' from 'autogen.browser_utils' (/Users/aduston/.pyenv/versions/3.11.4/envs/grantbot/lib/python3.11/site-packages/autogen/browser_utils.py)"
     ]
    }
   ],
   "source": [
    "import os\n",
    "from autogen import ConversableAgent\n",
    "from autogen.agentchat.contrib.web_surfer import WebSurferAgent\n",
    "from autogen.browser_utils import RequestsMarkdownBrowser"
   ]
  },
  {
   "cell_type": "code",
   "execution_count": 2,
   "metadata": {},
   "outputs": [],
   "source": [
    "RWF_SUMMARY = \"\"\"\n",
    "Ludlow-Taylor Elementary School, located in the Capitol Hill neighborhood of\n",
    "Washington, DC, seeks funding to support its afterschool \"Reading with Friends\"\n",
    "program for Kindergarten through 5th-grade students. This initiative provides\n",
    "literacy support, particularly benefiting underserved and at-risk students who\n",
    "have experienced significant learning loss due to the COVID-19 pandemic. The\n",
    "program offers free participation for families with financial need, ensuring\n",
    "equitable access to critical reading instruction. In the 2024-25 school year,\n",
    "65 students per session will engage in small group reading activities aimed at\n",
    "improving literacy skills and motivation. Funding will cover teacher salaries,\n",
    "materials, and participation subsidies.\n",
    "\"\"\"\n",
    "\n",
    "RWF_PROGRAM_NAME = \"Reading with Friends\"\n",
    "\n",
    "PROMPT = \"\"\"\n",
    "{program_summary}\n",
    "\n",
    "We understand that {grant_maker} has funded similar programs. \n",
    "Please research {grant_maker} and provide the following information:\n",
    "\n",
    "1. Grant Name (if applicable)\n",
    "2. Grant Link\n",
    "\n",
    "If it looks like the '{program_name}' program is not a good match\n",
    "for this grantmaker, please provide a brief explanation. If it\n",
    "looks like a potentially good match, please also provide the\n",
    "following information:\n",
    "\n",
    "1. Grant Amount. This might be a range or a specific amount, or some other\n",
    "   short description.\n",
    "2. Eligibility Criteria\n",
    "3. Application Deadline. Oftentimes there are multiple deadlines throughout the\n",
    "   year. Just briefly describe how this grantmaker organizes their deadlines.\n",
    "4. Any additional notes or considerations for applicants.\n",
    "5. The application procedure. Please comment specifically on\n",
    "    whether the application can be submitted online.\n",
    "\"\"\""
   ]
  },
  {
   "cell_type": "code",
   "execution_count": 3,
   "metadata": {},
   "outputs": [],
   "source": [
    "prompt = PROMPT.format(\n",
    "    program_summary=RWF_SUMMARY, \n",
    "    program_name=RWF_PROGRAM_NAME, \n",
    "    grant_maker=\"The Capitol Hill Community Foundation\"\n",
    ")"
   ]
  },
  {
   "cell_type": "code",
   "execution_count": 8,
   "metadata": {},
   "outputs": [],
   "source": [
    "llm_config = {\"model\": \"gpt-4\", \"api_key\": os.environ[\"OPENAI_API_KEY\"]}\n",
    "agent = ConversableAgent(\n",
    "    \"assistant\",\n",
    "    llm_config={\"config_list\": [llm_config]},\n",
    "    code_execution_config=False,\n",
    "    function_map=None,\n",
    "    human_input_mode=\"NEVER\",\n",
    ")\n",
    "\n",
    "web_agent = "
   ]
  },
  {
   "cell_type": "code",
   "execution_count": 9,
   "metadata": {},
   "outputs": [],
   "source": [
    "reply = agent.generate_reply(messages=[{\"content\": \"Tell me a joke.\", \"role\": \"user\"}])"
   ]
  },
  {
   "cell_type": "code",
   "execution_count": 10,
   "metadata": {},
   "outputs": [
    {
     "name": "stdout",
     "output_type": "stream",
     "text": [
      "Sure, here's a classic one for you:\n",
      "\n",
      "Why don't scientists trust atoms?\n",
      "\n",
      "Because they make up everything!\n"
     ]
    }
   ],
   "source": [
    "print(reply)"
   ]
  }
 ],
 "metadata": {
  "kernelspec": {
   "display_name": "grantbot",
   "language": "python",
   "name": "python3"
  },
  "language_info": {
   "codemirror_mode": {
    "name": "ipython",
    "version": 3
   },
   "file_extension": ".py",
   "mimetype": "text/x-python",
   "name": "python",
   "nbconvert_exporter": "python",
   "pygments_lexer": "ipython3",
   "version": "3.11.4"
  }
 },
 "nbformat": 4,
 "nbformat_minor": 2
}
